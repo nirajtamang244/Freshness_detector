{
 "cells": [
  {
   "cell_type": "markdown",
   "metadata": {},
   "source": [
    "# Food freshness detector for Grocery Stores\n",
    "### Super helpful for:\n",
    "\n",
    "* Grocery stores reducing waste 🍌❌\n",
    "* Families to have healthier food ✅\n",
    "* People who want safe, fresh meals 🥗\n",
    "\n"
   ]
  },
  {
   "cell_type": "markdown",
   "metadata": {},
   "source": [
    "We will take three paramters: \n",
    "* Temperature of the environment the food is on (℃)\n",
    "* Smell of the food in current time from 0 to 10. (0 being no smell and 10 being the strong bad smell)\n",
    "* Days that the food has been in the shelf (outside the freezer). We are not counting the days on the freezer assuming they 0% chance of them getting bad on freezer.\n",
    "* Color scale of the food from 0 to 10 (0 being the darkest color and 10 the lightest). If the data is lighter, it is considered to be more fresh"
   ]
  },
  {
   "cell_type": "code",
   "execution_count": 11,
   "metadata": {},
   "outputs": [],
   "source": [
    "import os\n",
    "import torch\n",
    "import torch.nn as nn\n",
    "import torchvision.transforms as transforms\n",
    "import torchvision.models as models\n",
    "from torchvision.datasets import ImageFolder\n",
    "from torch.utils.data import DataLoader\n",
    "from sklearn.model_selection import train_test_split\n",
    "import shutil\n",
    "from PIL import Image\n",
    "\n",
    "#inputing a dataset to train the model what is fresh and not\n",
    "\n",
    "X= torch.tensor([\n",
    "    [40.0, 8.0, 15.0, 2.0],\n",
    "    [20.0, 1.0, 3.0, 9.0], \n",
    "    [38.0, 9.0, 30.0, 1.0 ],\n",
    "    [20.0, 2.0, 5.0, 8.0],\n",
    "    [50.0, 8.0,12.0, 2.0],\n",
    "    [19.0, 0.0, 2.0, 10.0]\n",
    "]\n",
    ")\n",
    "\n",
    "y= torch.tensor(\n",
    "    [\n",
    "    [0.0],\n",
    "    [1.0],\n",
    "    [0.0],\n",
    "    [1.0],\n",
    "    [0.0],\n",
    "    [1.0]\n",
    "    ]\n",
    ")"
   ]
  },
  {
   "cell_type": "markdown",
   "metadata": {},
   "source": [
    "Now creating the brain of the model"
   ]
  },
  {
   "cell_type": "code",
   "execution_count": 2,
   "metadata": {},
   "outputs": [],
   "source": [
    "model= nn.Sequential(\n",
    "    nn.Linear(4,5),\n",
    "    nn.ReLU(),\n",
    "    nn.Linear(5,1),\n",
    "    nn.Sigmoid()\n",
    ")"
   ]
  },
  {
   "cell_type": "markdown",
   "metadata": {},
   "source": [
    "Now creating the lossfunction and also optimizer for the model"
   ]
  },
  {
   "cell_type": "code",
   "execution_count": 3,
   "metadata": {},
   "outputs": [],
   "source": [
    "loss_function= nn.BCELoss()\n",
    "optimizer= torch.optim.SGD(model.parameters(), lr=0.1)"
   ]
  },
  {
   "cell_type": "markdown",
   "metadata": {},
   "source": [
    "Now creating the loop where the training data set will be input and optimize the model to have more accuracy."
   ]
  },
  {
   "cell_type": "code",
   "execution_count": 4,
   "metadata": {},
   "outputs": [],
   "source": [
    "for i in range(1000):\n",
    "    y_pred= model(X)\n",
    "    variable= loss_function(y_pred, y)\n",
    "\n",
    "    optimizer.zero_grad()\n",
    "    variable.backward()\n",
    "    optimizer.step()"
   ]
  },
  {
   "cell_type": "code",
   "execution_count": 5,
   "metadata": {},
   "outputs": [],
   "source": [
    "def freshness_check(food_details):\n",
    "    output= model(torch.tensor(food_details))\n",
    "    final_output= output.item()\n",
    "    print(f\"The food is {final_output * 100:.2f}% fresh\")"
   ]
  },
  {
   "cell_type": "markdown",
   "metadata": {},
   "source": [
    "Now input the temperature, smell, days and color"
   ]
  },
  {
   "cell_type": "code",
   "execution_count": 6,
   "metadata": {},
   "outputs": [
    {
     "name": "stdout",
     "output_type": "stream",
     "text": [
      "The food is 97.88% fresh\n"
     ]
    }
   ],
   "source": [
    "freshness_check([20.0,2.0, 3.0,9.0])"
   ]
  },
  {
   "cell_type": "code",
   "execution_count": 7,
   "metadata": {},
   "outputs": [
    {
     "name": "stdout",
     "output_type": "stream",
     "text": [
      "The food is 0.00% fresh\n"
     ]
    }
   ],
   "source": [
    "freshness_check([40.0,10.0,20.0, 1.0])"
   ]
  },
  {
   "cell_type": "markdown",
   "metadata": {},
   "source": [
    "# Real-life Data "
   ]
  },
  {
   "cell_type": "markdown",
   "metadata": {},
   "source": [
    "### Assume you are a inventory manager at a super market and you have to check what food you need to order and what food  you need to thi out.\n",
    "### This program will help you to check the freshness of your food and make it easier for you to decide whether you need to thi it out or keep it. \n",
    "### This eventually leads you to make a decision whether you need add more of those food or not."
   ]
  },
  {
   "cell_type": "code",
   "execution_count": 8,
   "metadata": {},
   "outputs": [],
   "source": [
    "data_table = []  # creating an empty list to collect food data"
   ]
  },
  {
   "cell_type": "code",
   "execution_count": 9,
   "metadata": {},
   "outputs": [],
   "source": [
    "while True:\n",
    "    resume= input(\"Do you want to Input the new data?\")\n",
    "    if resume== \"y\":\n",
    "        temperature = float(input(\"The temperature of the environment(℃): \"))\n",
    "        smell= float(input(\"Smell of the food in current time from 0 (no smell) to 10 (very bad smell): \"))\n",
    "        date= float(input(\"Days the food has been in the shelf (outside the freezer): \"))\n",
    "        color= float(input(\"Color scale of the food from 0(darkest color) to 10 (lightest)\"))\n",
    "\n",
    "        entry = [temperature, smell, date, color]\n",
    "\n",
    "\n",
    "        # Make a prediction with model\n",
    "        prediction = model(torch.tensor([entry])).item()\n",
    "\n",
    "        # Rounding it (1 = fresh, 0 = not fresh)\n",
    "        entry.append(round(prediction))\n",
    "\n",
    "        # Adding it to the data table\n",
    "        data_table.append(entry)\n",
    "\n",
    "        freshness_check(entry[:-1])  # Using only the original 4 inputs for display\n",
    "    else:\n",
    "        break\n"
   ]
  },
  {
   "cell_type": "code",
   "execution_count": 10,
   "metadata": {},
   "outputs": [
    {
     "name": "stdout",
     "output_type": "stream",
     "text": [
      "Food Data Table:\n"
     ]
    }
   ],
   "source": [
    "print(\"Food Data Table:\")\n",
    "for i in data_table:\n",
    "    print(f\"Temp: {i[0]}, Smell: {i[1]}, Days: {i[2]}, Color: {i[3]}, Fresh: {i[4]}\")\n",
    "\n"
   ]
  }
 ],
 "metadata": {
  "kernelspec": {
   "display_name": "Python 3",
   "language": "python",
   "name": "python3"
  },
  "language_info": {
   "codemirror_mode": {
    "name": "ipython",
    "version": 3
   },
   "file_extension": ".py",
   "mimetype": "text/x-python",
   "name": "python",
   "nbconvert_exporter": "python",
   "pygments_lexer": "ipython3",
   "version": "3.9.6"
  }
 },
 "nbformat": 4,
 "nbformat_minor": 2
}
